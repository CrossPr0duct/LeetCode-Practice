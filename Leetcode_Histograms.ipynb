{
 "cells": [
  {
   "cell_type": "code",
   "execution_count": null,
   "id": "d20392fc",
   "metadata": {},
   "outputs": [
    {
     "name": "stdout",
     "output_type": "stream",
     "text": [
      "Hello World\n"
     ]
    }
   ],
   "source": [
    "# Histogram Collections"
   ]
  },
  {
   "cell_type": "code",
   "execution_count": 2,
   "id": "c5d7ca34",
   "metadata": {},
   "outputs": [
    {
     "name": "stdout",
     "output_type": "stream",
     "text": [
      "defaultdict(<class 'int'>, {'a': 4, 'b': 2, 'c': 4})\n"
     ]
    }
   ],
   "source": [
    "from collections import defaultdict\n",
    "\n",
    "hist = defaultdict(int) \n",
    "d = [\"a\",'a','a','a','b','b','c','c','c','c']\n",
    "\n",
    "for i in d:\n",
    "    hist[i] += 1\n",
    "print(hist)\n"
   ]
  },
  {
   "cell_type": "code",
   "execution_count": null,
   "id": "f5087d3b",
   "metadata": {},
   "outputs": [
    {
     "name": "stdout",
     "output_type": "stream",
     "text": [
      "dict_items([('a', 4), ('b', 2), ('c', 4)])\n"
     ]
    }
   ],
   "source": [
    "print(hist.items()) # list of tuples"
   ]
  },
  {
   "cell_type": "code",
   "execution_count": 5,
   "id": "28c7c483",
   "metadata": {},
   "outputs": [
    {
     "name": "stdout",
     "output_type": "stream",
     "text": [
      "[('a', 4), ('c', 4), ('b', 2)]\n"
     ]
    }
   ],
   "source": [
    "sorted_hist = sorted(hist.items(),key=lambda x:x[1],reverse=True) # tuples\n",
    "print(sorted_hist)"
   ]
  },
  {
   "cell_type": "code",
   "execution_count": null,
   "id": "94882f70",
   "metadata": {},
   "outputs": [
    {
     "name": "stdout",
     "output_type": "stream",
     "text": [
      "[('a', 4), ('c', 4)]\n"
     ]
    }
   ],
   "source": [
    "k = 2 \n",
    "print(sorted_hist[:k])"
   ]
  },
  {
   "cell_type": "code",
   "execution_count": 23,
   "id": "1e5a3908",
   "metadata": {},
   "outputs": [
    {
     "name": "stdout",
     "output_type": "stream",
     "text": [
      "dict_keys(['a', 'b', 'c'])\n"
     ]
    }
   ],
   "source": [
    "# Lets do a quick review of key sorting\n",
    "hist = {'a': 1, 'b': 3, 'c': 2}\n",
    "print(hist.keys())\n"
   ]
  },
  {
   "cell_type": "code",
   "execution_count": 25,
   "id": "85d224f7",
   "metadata": {},
   "outputs": [
    {
     "name": "stdout",
     "output_type": "stream",
     "text": [
      "['c', 'b', 'a']\n"
     ]
    }
   ],
   "source": [
    "hist_res = sorted(hist.keys(),key=lambda x:x[0],reverse=True)\n",
    "print(hist_res)"
   ]
  },
  {
   "cell_type": "code",
   "execution_count": null,
   "id": "d2e296d7",
   "metadata": {},
   "outputs": [],
   "source": []
  }
 ],
 "metadata": {
  "kernelspec": {
   "display_name": "Python 3",
   "language": "python",
   "name": "python3"
  },
  "language_info": {
   "codemirror_mode": {
    "name": "ipython",
    "version": 3
   },
   "file_extension": ".py",
   "mimetype": "text/x-python",
   "name": "python",
   "nbconvert_exporter": "python",
   "pygments_lexer": "ipython3",
   "version": "3.9.6"
  }
 },
 "nbformat": 4,
 "nbformat_minor": 5
}
